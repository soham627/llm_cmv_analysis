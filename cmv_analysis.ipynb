{
 "cells": [
  {
   "metadata": {},
   "cell_type": "code",
   "source": [
    "import pandas as pd\n",
    "import time\n",
    "from openai import OpenAI\n",
    "import re\n",
    "from dotenv import load_dotenv\n",
    "import os"
   ],
   "id": "d21ec63b7e8a8ff7",
   "outputs": [],
   "execution_count": null
  },
  {
   "metadata": {
    "collapsed": true
   },
   "cell_type": "code",
   "source": [
    "# load results\n",
    "gpt4o_results = pd.read_csv(\"gpt_results_4o.csv\")\n",
    "gpt3_5_results = pd.read_csv(\"gpt_results_3_5_final.csv\")\n",
    "\n",
    "def calculate_accuracy(df):\n",
    "    \"\"\"Calculates the accuracy of GPT predictions.\"\"\"\n",
    "    df[\"correct\"] = df[\"gpt_prediction\"] == df[\"correct_answer\"]\n",
    "    accuracy = df[\"correct\"].mean() * 100\n",
    "    return accuracy\n",
    "\n",
    "# calculate accuracy\n",
    "gpt4o_accuracy = calculate_accuracy(gpt4o_results)\n",
    "gpt3_5_accuracy = calculate_accuracy(gpt3_5_results)\n",
    "\n",
    "print(f\"GPT-4o Accuracy: {gpt4o_accuracy:.2f}%\")\n",
    "print(f\"GPT-3.5 Accuracy: {gpt3_5_accuracy:.2f}%\")\n"
   ],
   "id": "initial_id",
   "outputs": [],
   "execution_count": null
  },
  {
   "metadata": {},
   "cell_type": "code",
   "source": [
    "load_dotenv()\n",
    "client = OpenAI(api_key=os.getenv(\"OPENAI_API_KEY\"))\n",
    "evaluation_prompt = \"\"\"\n",
    "You are an AI assistant evaluating the reasoning quality of another AI model's response.\n",
    "Given an original post, two counterarguments, and the AI’s explanation, rate the explanation on a scale of 1 to 10 for:\n",
    "1. **Clarity** (Is the reasoning easy to understand?)\n",
    "2. **Logical Depth** (Does it consider multiple perspectives and explain deeply?)\n",
    "3. **Consistency** (Is the reasoning logically structured and non-contradictory?)\n",
    "4. **Bias Avoidance** (Does the explanation remain neutral and not favor a specific ideology?)\n",
    "5. **Persuasiveness** (Would this explanation convince a human?)\n",
    "\n",
    "Provide your scores in **this exact format**:\n",
    "Clarity: X\n",
    "Logical Depth: X\n",
    "Consistency: X\n",
    "Bias Avoidance: X\n",
    "Persuasiveness: X\n",
    "\n",
    "Now evaluate the following:\n",
    "\n",
    "**Original Post:**\n",
    "{original_post}\n",
    "\n",
    "**Counterargument 1:**\n",
    "{counterargument_1}\n",
    "\n",
    "**Counterargument 2:**\n",
    "{counterargument_2}\n",
    "\n",
    "**AI’s Explanation:**\n",
    "{explanation}\n",
    "\"\"\""
   ],
   "id": "31ffd95e49aa2a02",
   "outputs": [],
   "execution_count": null
  },
  {
   "metadata": {},
   "cell_type": "code",
   "source": "os.getenv(\"OPENAI_API_KEY\")",
   "id": "7cb3639732a2d53f",
   "outputs": [],
   "execution_count": null
  },
  {
   "metadata": {},
   "cell_type": "code",
   "source": [
    "# function that evaluates the explanations\n",
    "def evaluate_explanation(row, model=\"gpt-4o\"):\n",
    "    prompt = evaluation_prompt.format(\n",
    "        original_post=row[\"original_post\"],\n",
    "        counterargument_1=row[\"counterargument_1\"],\n",
    "        counterargument_2=row[\"counterargument_2\"],\n",
    "        explanation=row[\"explanation\"]\n",
    "    )\n",
    "\n",
    "    for attempt in range(3):\n",
    "        try:\n",
    "            response = client.chat.completions.create(\n",
    "                model=model,\n",
    "                messages=[{\"role\": \"system\", \"content\": \"You are an AI evaluating AI explanations.\"},\n",
    "                          {\"role\": \"user\", \"content\": prompt}],\n",
    "                temperature=0.0,\n",
    "                max_tokens=200\n",
    "            )\n",
    "\n",
    "            gpt_output = response.choices[0].message.content.strip()\n",
    "            scores = {}\n",
    "            for metric in [\"Clarity\", \"Logical Depth\", \"Consistency\", \"Bias Avoidance\", \"Persuasiveness\"]:\n",
    "                match = re.search(fr\"{metric}:\\s*(\\d+)\", gpt_output)\n",
    "                scores[metric] = int(match.group(1)) if match else None\n",
    "\n",
    "            return scores\n",
    "\n",
    "        except Exception as e:\n",
    "            print(f\"API call failed (Attempt {attempt+1}/3): {e}\")\n",
    "            time.sleep(2)\n",
    "\n",
    "    return {\"Clarity\": None, \"Logical Depth\": None, \"Consistency\": None, \"Bias Avoidance\": None, \"Persuasiveness\": None}\n",
    "\n",
    "# evaluate the explanations in a batch\n",
    "def batch_evaluate(df, model=\"gpt-4o\"):\n",
    "    \"\"\"Runs GPT-based evaluation on all explanations in a df.\"\"\"\n",
    "    scores = []\n",
    "    for i, row in df.iterrows():\n",
    "        print(f\"Evaluating explanation {i+1}/{len(df)}...\")\n",
    "        score = evaluate_explanation(row, model)\n",
    "        scores.append(score)\n",
    "        time.sleep(1)\n",
    "    return pd.DataFrame(scores)"
   ],
   "id": "d555fc88eaf1840b",
   "outputs": [],
   "execution_count": null
  },
  {
   "metadata": {},
   "cell_type": "code",
   "source": [
    "# run the score evaluation on both result sets\n",
    "#print(\"\\n Evaluating GPT-4o Explanations...\")\n",
    "#gpt4o_scores = batch_evaluate(gpt4o_results)\n",
    "\n",
    "print(\"\\nEvaluating GPT-3.5 Explanations...\")\n",
    "gpt3_5_scores = batch_evaluate(gpt3_5_results)\n",
    "\n",
    "# save the computed scores\n",
    "#gpt4o_scores.to_csv(\"gpt4o_explanation_scores.csv\", index=False)\n",
    "gpt3_5_scores.to_csv(\"gpt3.5_explanation_scores.csv\", index=False)\n"
   ],
   "id": "448eb992fd2f930e",
   "outputs": [],
   "execution_count": null
  },
  {
   "metadata": {},
   "cell_type": "code",
   "source": "",
   "id": "bbba97de00ff616d",
   "outputs": [],
   "execution_count": null
  }
 ],
 "metadata": {
  "kernelspec": {
   "display_name": "Python 3",
   "language": "python",
   "name": "python3"
  },
  "language_info": {
   "codemirror_mode": {
    "name": "ipython",
    "version": 2
   },
   "file_extension": ".py",
   "mimetype": "text/x-python",
   "name": "python",
   "nbconvert_exporter": "python",
   "pygments_lexer": "ipython2",
   "version": "2.7.6"
  }
 },
 "nbformat": 4,
 "nbformat_minor": 5
}
